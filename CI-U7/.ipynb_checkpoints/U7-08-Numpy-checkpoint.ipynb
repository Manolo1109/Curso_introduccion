{
 "cells": [
  {
   "cell_type": "markdown",
   "metadata": {},
   "source": [
    "<a id=\"A00\"></a>"
   ]
  },
  {
   "cell_type": "markdown",
   "metadata": {},
   "source": [
    "# Unidad 7 - Introducción a la algoritmia con Python\n",
    "#### Elementos básicos de Python\n",
    " \n",
    "# Demo Numpy\n",
    "\n",
    "En este notebook vas a encontrar ejemplos relacionados con el uso de la librería Pandas en Python. Recuerda que siempre puedes ir a la referencia si tienes alguna duda [Ir a la referencia](https://numpy.org/doc/1.25/)\n",
    "\n",
    "Este archivo es la continuación de NumPy, iremos avanzando en algunos conceptos adicionales\n",
    "\n",
    "##### Contenido de este archivo:\n",
    "\n",
    "1. Importar la librería y ver la versión\n",
    "    - [[enlace]](#A01)\n",
    "2. Creación de arreglos en NumPy   \n",
    "    - [[enlace]](#A02).\n",
    "3. Indexación y rebanado en un arreglo de NumPy\n",
    "    - [[enlace]](#A03).\n",
    "4. Operaciones matemáticas en arreglos de NumPy\n",
    "    - [[enlace]](#A04).\n",
    "5. Manipulación de formas del arreglo\n",
    "    - [[enlace]](#A05).\n",
    "6. Operaciones de álgebra lineal\n",
    "    - [[enlace]](#A06).\n",
    "7. Generación de números aleatorios\n",
    "   - [[enlace]](#A07).   \n",
    "8. Máscaras y filtrado\n",
    "   - [[enlace]](#A08).\n",
    "9. Broadcasting de arreglos\n",
    "   - [[enlace]](#A09).\n",
    "10. Persistencia\n",
    "   - [[enlace]](#A10).\n",
    "11. Comparación de arreglos en NumPy\n",
    "   - [[enlace]](#A11).\n",
    "12. Funciones de agregación\n",
    "   - [[enlace]](#A12).\n",
    "13. Creación de copias\n",
    "   - [[enlace]](#A13).\n",
    "14. Operación de NumPy con otras librerías\n",
    "   - [[enlace]](#A14)."
   ]
  },
  {
   "cell_type": "markdown",
   "metadata": {},
   "source": [
    "<a id=\"A01\"></a>"
   ]
  },
  {
   "cell_type": "markdown",
   "metadata": {},
   "source": [
    "#### 1. Importar la librería y ver la versión\n",
    "   [[enlace]](#A00)"
   ]
  },
  {
   "cell_type": "code",
   "execution_count": 25,
   "metadata": {},
   "outputs": [
    {
     "data": {
      "text/plain": [
       "'1.18.5'"
      ]
     },
     "execution_count": 25,
     "metadata": {},
     "output_type": "execute_result"
    }
   ],
   "source": [
    "import numpy as np\n",
    "np.__version__"
   ]
  },
  {
   "cell_type": "markdown",
   "metadata": {},
   "source": [
    "<a id=\"A02\"></a>"
   ]
  },
  {
   "cell_type": "markdown",
   "metadata": {},
   "source": [
    "#### 2. Creación de arreglos e inspección de arreglos en NumPy   \n",
    "[[enlace]](#A00)."
   ]
  },
  {
   "cell_type": "code",
   "execution_count": 26,
   "metadata": {
    "scrolled": true
   },
   "outputs": [
    {
     "name": "stdout",
     "output_type": "stream",
     "text": [
      "[1 2 3 4 5]\n",
      "--------\n",
      "[[1.5 2.  3. ]\n",
      " [4.  5.  6. ]]\n",
      "--------\n",
      "[[[1.5 2.  3. ]\n",
      "  [4.  5.  6. ]]\n",
      "\n",
      " [[3.  2.  1. ]\n",
      "  [4.  5.  6. ]]]\n",
      "--------\n"
     ]
    }
   ],
   "source": [
    "# Crear un arreglo de NumPy\n",
    "a = np.array([1, 2, 3, 4, 5])\n",
    "b = np.array([(1.5,2,3), (4,5,6)], dtype = float)\n",
    "c = np.array([[(1.5,2,3), (4,5,6)],[(3,2,1), (4,5,6)]], dtype = float)\n",
    "\n",
    "print(a)\n",
    "print(\"--------\")\n",
    "print(b)\n",
    "print(\"--------\")\n",
    "print(c)\n",
    "print(\"--------\")"
   ]
  },
  {
   "cell_type": "markdown",
   "metadata": {},
   "source": [
    "###### Uso de placeholders \n",
    "Numpy ofrece mecanimos de construcción de arreglos con diferentes versiones últiles"
   ]
  },
  {
   "cell_type": "code",
   "execution_count": 27,
   "metadata": {},
   "outputs": [
    {
     "name": "stdout",
     "output_type": "stream",
     "text": [
      "Zeros:\n",
      " [[0. 0. 0. 0.]\n",
      " [0. 0. 0. 0.]\n",
      " [0. 0. 0. 0.]]\n",
      "Ones:\n",
      " [[[1 1 1 1]\n",
      "  [1 1 1 1]\n",
      "  [1 1 1 1]]\n",
      "\n",
      " [[1 1 1 1]\n",
      "  [1 1 1 1]\n",
      "  [1 1 1 1]]]\n",
      "Step:\n",
      " [10 15 20 25 30 35 40 45]\n",
      "Evenly:\n",
      " [0.   0.25 0.5  0.75 1.   1.25 1.5  1.75 2.  ]\n",
      "Same:\n",
      " [[7 7]\n",
      " [7 7]]\n",
      "Identi:\n",
      " [[1. 0.]\n",
      " [0. 1.]]\n",
      "Random:\n",
      " [[0.03583857 0.66293084]\n",
      " [0.94034832 0.19947039]]\n",
      "Empty:\n",
      " [[1.39069238e-309 1.39069238e-309]\n",
      " [1.39069238e-309 1.39069238e-309]\n",
      " [1.39069238e-309 1.39069238e-309]]\n"
     ]
    }
   ],
   "source": [
    "zeros_arr = np.zeros((3,4)) #Create an array of zeros\n",
    "print(\"Zeros:\\n\", zeros_arr)\n",
    "\n",
    "ones_arr = np.ones((2,3,4),dtype=np.int16) #Create an array of ones\n",
    "print(\"Ones:\\n\", ones_arr)\n",
    "\n",
    "step_arr = np.arange(10,50,5) #Create an array of evenly spaced values (step value)\n",
    "print(\"Step:\\n\", step_arr)\n",
    "\n",
    "evenly_arr = np.linspace(0,2,9) #Create an array of evenlyspaced values (number of samples)\n",
    "print(\"Evenly:\\n\", evenly_arr) ## muestreo homogeneo\n",
    "\n",
    "same_arr = np.full((2,2),7) #Create a constant array\n",
    "print(\"Same:\\n\", same_arr) ## todos iguales\n",
    "\n",
    "iden_arr = np.eye(2) #Create a 2X2 identity matrix\n",
    "print(\"Identi:\\n\", iden_arr) ## todos iguales\n",
    "\n",
    "random_arr = np.random.random((2,2)) #Create an array with random values \n",
    "print(\"Random:\\n\", random_arr) ## todos iguales\n",
    "\n",
    "empty_arr = np.empty((3,2)) #Create an empty array\n",
    "print(\"Empty:\\n\", empty_arr) ## todos iguales"
   ]
  },
  {
   "cell_type": "markdown",
   "metadata": {},
   "source": [
    "###### Inspección de arreglos\n",
    "Como en otras librerías, NumPy tiene opciones para la exploración o inspección de los datos"
   ]
  },
  {
   "cell_type": "code",
   "execution_count": 28,
   "metadata": {},
   "outputs": [],
   "source": [
    "# Crear un arreglo de NumPy\n",
    "a = np.array([1, 2, 3, 4, 5])"
   ]
  },
  {
   "cell_type": "code",
   "execution_count": 29,
   "metadata": {},
   "outputs": [
    {
     "name": "stdout",
     "output_type": "stream",
     "text": [
      "(5,)\n",
      "5\n",
      "1\n",
      "5\n",
      "int32\n",
      "int32\n",
      "[1. 2. 3. 4. 5.]\n"
     ]
    }
   ],
   "source": [
    "print(a.shape)\n",
    "print(len(a))\n",
    "print(a.ndim)\n",
    "print(a.size)\n",
    "print(a.dtype)\n",
    "print(a.dtype.name)\n",
    "print(a.astype(float))"
   ]
  },
  {
   "cell_type": "markdown",
   "metadata": {},
   "source": [
    "###### Tipos de datos\n",
    "NumPy tiene múltiples tipos de datos"
   ]
  },
  {
   "cell_type": "markdown",
   "metadata": {},
   "source": [
    "| Tipo de Dato | Descripción                     |\n",
    "|:-------------|:------------------------------- |\n",
    "| `bool`       | Booleano                        |\n",
    "| `int8`       | Entero de 8 bits con signo      |\n",
    "| `int16`      | Entero de 16 bits con signo     |\n",
    "| `int32`      | Entero de 32 bits con signo     |\n",
    "| `int64`      | Entero de 64 bits con signo     |\n",
    "| `uint8`      | Entero de 8 bits sin signo      |\n",
    "| `uint16`     | Entero de 16 bits sin signo     |\n",
    "| `uint32`     | Entero de 32 bits sin signo     |\n",
    "| `uint64`     | Entero de 64 bits sin signo     |\n",
    "| `float16`    | Punto flotante de 16 bits       |\n",
    "| `float32`    | Punto flotante de 32 bits       |\n",
    "| `float64`    | Punto flotante de 64 bits       |\n",
    "| `complex64`  | Número complejo de 64 bits      |\n",
    "| `complex128` | Número complejo de 128 bits     |\n",
    "| `object`     | Objeto de Python                |\n",
    "| `str`        | Cadena de caracteres            |\n",
    "| `unicode`    | Cadena de caracteres Unicode    |\n"
   ]
  },
  {
   "cell_type": "markdown",
   "metadata": {},
   "source": [
    "<a id=\"A03\"></a>"
   ]
  },
  {
   "cell_type": "markdown",
   "metadata": {},
   "source": [
    "#### 3. Indexación y rebanado en un arreglo de NumPy\n",
    "[[enlace]](#A00)."
   ]
  },
  {
   "cell_type": "code",
   "execution_count": 30,
   "metadata": {},
   "outputs": [
    {
     "name": "stdout",
     "output_type": "stream",
     "text": [
      "1\n",
      "[2 3 4]\n",
      "-----------\n",
      "[4 5 6]\n",
      "[[2 3]\n",
      " [5 6]\n",
      " [8 9]]\n"
     ]
    }
   ],
   "source": [
    "# Indexación y rebanado en un arreglo de NumPy\n",
    "arr = np.array([1, 2, 3, 4, 5])\n",
    "print(arr[0])       # Acceder al primer elemento\n",
    "print(arr[1:4])     # Rebanar desde el segundo al cuarto elemento\n",
    "print(\"-----------\")\n",
    "# Indexación y segmentación avanzada:\n",
    "arr = np.array([[1, 2, 3], [4, 5, 6], [7, 8, 9]])\n",
    "print(arr[1])                    # Acceder a la segunda fila del arreglo\n",
    "print(arr[:, 1:3])               # Segmentar columnas del arreglo"
   ]
  },
  {
   "cell_type": "markdown",
   "metadata": {},
   "source": [
    "<a id=\"A04\"></a>"
   ]
  },
  {
   "cell_type": "markdown",
   "metadata": {},
   "source": [
    "##### 4. Operaciones matemáticas en arreglos de NumPy\n",
    "NumPy proporciona una amplia gama de funciones matemáticas y estadísticas para operar en arreglos, como sumas, promedios, desviaciones estándar, entre otros.\n",
    "\n",
    "[[enlace]](#A00). "
   ]
  },
  {
   "cell_type": "code",
   "execution_count": 7,
   "metadata": {},
   "outputs": [
    {
     "name": "stdout",
     "output_type": "stream",
     "text": [
      "3.0\n",
      "5\n",
      "[ 1  4  9 16 25]\n",
      "[ 0.84147098  0.90929743  0.14112001 -0.7568025  -0.95892427]\n"
     ]
    }
   ],
   "source": [
    "# Operaciones matemáticas en arreglos de NumPy\n",
    "\n",
    "arr = np.array([1, 2, 3, 4, 5])\n",
    "print(np.mean(arr))     # Calcular la media del arreglo\n",
    "print(np.max(arr))      # Encontrar el valor máximo del arreglo\n",
    "\n",
    "# Algunas se aplican al conjunto otras al item por cada posición\n",
    "\n",
    "# Hay mas funciones que podemos usar\n",
    "print(np.square(arr))   # Elevar al cuadrado cada elemento del arreglo\n",
    "print(np.sin(arr))      # Calcular el seno de cada elemento del arreglo"
   ]
  },
  {
   "cell_type": "markdown",
   "metadata": {},
   "source": [
    "#### Tabla de las operaciones disponibles\n",
    "\n",
    "| Función        | Descripción                                               | Ejemplo de Uso                                |\n",
    "|:---------------|:--------------------------------------------------------- |:----------------------------------------------|\n",
    "| np.add         | Suma de dos arreglos                                      | np.add(arr1, arr2)                            |\n",
    "| np.subtract    | Resta de dos arreglos                                     | np.subtract(arr1, arr2)                       |\n",
    "| np.multiply    | Multiplicación de dos arreglos                             | np.multiply(arr1, arr2)                       |\n",
    "| np.divide      | División de dos arreglos                                   | np.divide(arr1, arr2)                         |\n",
    "| np.power       | Exponenciación de un arreglo a una potencia                | np.power(arr, exponent)                       |\n",
    "| np.sqrt        | Raíz cuadrada de un arreglo                               | np.sqrt(arr)                                  |\n",
    "| np.exp         | Exponencial de un arreglo                                 | np.exp(arr)                                   |\n",
    "| np.log         | Logaritmo natural de un arreglo                           | np.log(arr)                                   |\n",
    "| np.sin         | Seno de un arreglo                                        | np.sin(arr)                                   |\n",
    "| np.cos         | Coseno de un arreglo                                      | np.cos(arr)                                   |\n",
    "| np.tan         | Tangente de un arreglo                                    | np.tan(arr)                                   |\n",
    "| np.arcsin      | Arcoseno de un arreglo                                    | np.arcsin(arr)                                |\n",
    "| np.arccos      | Arcocoseno de un arreglo                                  | np.arccos(arr)                                |\n",
    "| np.arctan      | Arcotangente de un arreglo                                | np.arctan(arr)                                |\n",
    "| np.sum         | Suma de elementos en un arreglo                           | np.sum(arr)                                   |\n",
    "| np.mean        | Media aritmética de un arreglo                            | np.mean(arr)                                  |\n",
    "| np.median      | Mediana de un arreglo                                     | np.median(arr)                                |\n",
    "| np.std         | Desviación estándar de un arreglo                         | np.std(arr)                                   |\n",
    "| np.var         | Varianza de un arreglo                                    | np.var(arr)                                   |\n",
    "| np.absolute    | Valor absoluto de un arreglo                              | np.absolute(arr)                              |\n",
    "| np.round       | Redondeo de un arreglo                                    | np.round(arr)                                 |\n"
   ]
  },
  {
   "cell_type": "markdown",
   "metadata": {},
   "source": [
    "###### Operaciones usando arreglos"
   ]
  },
  {
   "cell_type": "code",
   "execution_count": 8,
   "metadata": {
    "scrolled": false
   },
   "outputs": [
    {
     "name": "stdout",
     "output_type": "stream",
     "text": [
      "[ 2  4  6  8 10]\n",
      "[0 0 0 0 0]\n",
      "[ 1  4  9 16 25]\n",
      "[1. 1. 1. 1. 1.]\n"
     ]
    }
   ],
   "source": [
    "arr_a = np.array([1, 2, 3, 4, 5])\n",
    "arr_b = np.array([1, 2, 3, 4, 5])\n",
    "\n",
    "print(np.add(arr_a, arr_b))\n",
    "print(np.subtract(arr_a, arr_b))\n",
    "print(np.multiply(arr_a, arr_b))\n",
    "print(np.divide(arr_a, arr_b))"
   ]
  },
  {
   "cell_type": "markdown",
   "metadata": {},
   "source": [
    "<a id=\"A05\"></a>"
   ]
  },
  {
   "cell_type": "markdown",
   "metadata": {},
   "source": [
    "#### 5. Manipulación del arreglo\n",
    "NumPy ofrece funciones para cambiar la forma y tamaño de los arreglos, como la transposición, el redimensionamiento y la concatenación.\n",
    "[[enlace]](#A00)."
   ]
  },
  {
   "cell_type": "code",
   "execution_count": 9,
   "metadata": {
    "scrolled": true
   },
   "outputs": [
    {
     "name": "stdout",
     "output_type": "stream",
     "text": [
      "[[1 2 3]\n",
      " [4 5 6]]\n",
      "------------------\n",
      "[[1 4]\n",
      " [2 5]\n",
      " [3 6]]\n",
      "------------------\n",
      "[[1 2]\n",
      " [3 4]\n",
      " [5 6]]\n"
     ]
    },
    {
     "data": {
      "text/plain": [
       "array([1, 2, 3, 4, 5, 6])"
      ]
     },
     "execution_count": 9,
     "metadata": {},
     "output_type": "execute_result"
    }
   ],
   "source": [
    "# Manipulación de formas de arreglos de NumPy\n",
    "arr = np.array([[1, 2, 3], [4, 5, 6]])\n",
    "print(arr)                   # Transposición del arreglo\n",
    "print(\"------------------\")\n",
    "print(arr.T)                   # Transposición del arreglo\n",
    "print(\"------------------\")\n",
    "print(np.reshape(arr, (3, 2)))  # Redimensionar el arreglo\n",
    "# obtenemos un nuevo arreglo con forma (3, 2) donde los elementos se reorganizan para ajustarse a la nueva forma.\n",
    "\n",
    "# Manipulación de formas de arreglos en NumPy\n",
    "arr = np.array([[1, 2, 3], [4, 5, 6]])\n",
    "transposed_arr = np.transpose(arr)  # Transponer el arreglo\n",
    "reshaped_arr = np.reshape(arr, (3, 2))  # Redimensionar el arreglo\n",
    "flattened_arr = arr.flatten()  # Aplanar el arreglo\n",
    "flattened_arr"
   ]
  },
  {
   "cell_type": "markdown",
   "metadata": {},
   "source": [
    "###### Agregar y remover elementos"
   ]
  },
  {
   "cell_type": "code",
   "execution_count": 10,
   "metadata": {
    "scrolled": true
   },
   "outputs": [
    {
     "name": "stdout",
     "output_type": "stream",
     "text": [
      "Append:\n",
      "[ 1  2  3  4  5  6  7  8  9 10]\n",
      "Insert:\n",
      "[1 5 2 3 4 5]\n",
      "Delete:\n",
      "[1 3 4 5]\n",
      "Reshape:\n",
      "[[1 2 3 4 5 0]\n",
      " [0 0 0 0 0 0]]\n"
     ]
    }
   ],
   "source": [
    "h = np.array([1, 2, 3, 4, 5])\n",
    "g = np.array([6, 7, 8, 9, 10])\n",
    "\n",
    "# Agregar elementos de 'g' al final del arreglo 'h'\n",
    "resultado_append = np.append(h, g)\n",
    "print(\"Append:\")\n",
    "print(resultado_append)\n",
    "\n",
    "# Insertar el valor 5 en la posición 1 del arreglo 'h'\n",
    "resultado_insert = np.insert(h, 1, 5)\n",
    "print(\"Insert:\")\n",
    "print(resultado_insert)\n",
    "\n",
    "# Eliminar el elemento en la posición 1 del arreglo 'h'\n",
    "resultado_delete = np.delete(h, [1])\n",
    "print(\"Delete:\")\n",
    "print(resultado_delete)\n",
    "\n",
    "# Cambiar el tamaño del arreglo 'h' a una forma específica\n",
    "h.resize((2, 6))\n",
    "print(\"Reshape:\")\n",
    "print(h)"
   ]
  },
  {
   "cell_type": "markdown",
   "metadata": {},
   "source": [
    "<a id=\"A06\"></a>"
   ]
  },
  {
   "cell_type": "markdown",
   "metadata": {},
   "source": [
    "#### 6. Operaciones de álgebra lineal\n",
    "NumPy ofrece funciones para realizar operaciones de álgebra lineal, como multiplicación de matrices, cálculo de determinantes e inversión de matrices.\n",
    "[[enlace]](#A00)."
   ]
  },
  {
   "cell_type": "code",
   "execution_count": 11,
   "metadata": {
    "scrolled": true
   },
   "outputs": [
    {
     "name": "stdout",
     "output_type": "stream",
     "text": [
      "[[19 22]\n",
      " [43 50]]\n",
      "------------------\n",
      "-2.0000000000000004\n"
     ]
    }
   ],
   "source": [
    "# Operaciones de álgebra lineal en arreglos de NumPy\n",
    "a = np.array([[1, 2], [3, 4]])\n",
    "b = np.array([[5, 6], [7, 8]])\n",
    "\n",
    "print(np.dot(a, b))            # Multiplicación de matrices\n",
    "print(\"------------------\")\n",
    "print(np.linalg.det(a))        # Cálculo del determinante"
   ]
  },
  {
   "cell_type": "markdown",
   "metadata": {},
   "source": [
    "| Operación                   | Función                |\n",
    "|:----------------------------|:-----------------------|\n",
    "| Producto de matrices        | `np.matmul`            |\n",
    "| Producto punto              | `np.dot`               |\n",
    "| Producto cruz               | `np.cross`             |\n",
    "| Determinante                | `np.linalg.det`        |\n",
    "| Inversa de una matriz       | `np.linalg.inv`        |\n",
    "| Solución de sistemas lineales | `np.linalg.solve`     |\n",
    "| Autovalores y autovectores  | `np.linalg.eig`        |\n",
    "| Descomposición SVD          | `np.linalg.svd`        |\n",
    "| Factorización QR            | `np.linalg.qr`         |\n",
    "| Factorización de Cholesky   | `np.linalg.cholesky`   |\n",
    "| Norma de una matriz o vector| `np.linalg.norm`       |\n",
    "| Producto externo            | `np.outer`             |\n",
    "| Producto escalar            | `np.inner`             |\n",
    "| Producto tensorial          | `np.kron`              |\n"
   ]
  },
  {
   "cell_type": "markdown",
   "metadata": {},
   "source": [
    "<a id=\"A07\"></a>"
   ]
  },
  {
   "cell_type": "markdown",
   "metadata": {},
   "source": [
    "#### 7. Generación de números aleatorios\n",
    "NumPy proporciona funciones para generar números aleatorios siguiendo diversas distribuciones, como uniforme, normal y binomial.\n",
    "[[enlace]](#A00)"
   ]
  },
  {
   "cell_type": "code",
   "execution_count": 12,
   "metadata": {},
   "outputs": [
    {
     "name": "stdout",
     "output_type": "stream",
     "text": [
      "[0.45234295 0.66447365 0.77146447 0.59525493 0.69141601]\n",
      "----------\n",
      "[[ 0.73953028 -1.80123752 -2.03481597]\n",
      " [-0.3169576  -0.72958973 -1.27575635]\n",
      " [-0.75266695  0.77010334 -1.62194609]]\n"
     ]
    }
   ],
   "source": [
    "# Generación de números aleatorios en un rango\n",
    "random_nums = np.random.uniform(low=0, high=1, size=5)  # Generar 5 números aleatorios en el rango [0, 1)\n",
    "print(random_nums)\n",
    "\n",
    "print(\"----------\")\n",
    "\n",
    "# Generación de números aleatorios en matriz\n",
    "random_nums = np.random.normal(0, 1, size=(3, 3))  # Generar una matriz de números aleatorios con distribución normal\n",
    "print(random_nums)"
   ]
  },
  {
   "cell_type": "markdown",
   "metadata": {},
   "source": [
    "<a id=\"A08\"></a>"
   ]
  },
  {
   "cell_type": "markdown",
   "metadata": {},
   "source": [
    "#### 8. Máscaras y filtrado\n",
    "NumPy permite crear máscaras booleanas para filtrar y seleccionar elementos de un arreglo basado en ciertas condiciones.\n",
    "[[enlace]](#A00)."
   ]
  },
  {
   "cell_type": "code",
   "execution_count": 13,
   "metadata": {},
   "outputs": [
    {
     "name": "stdout",
     "output_type": "stream",
     "text": [
      "[3 4 5]\n"
     ]
    }
   ],
   "source": [
    "# Máscaras y filtrado en arreglos de NumPy\n",
    "arr = np.array([1, 2, 3, 4, 5])\n",
    "mask = arr > 2                  # Crear una máscara booleana\n",
    "print(arr[mask])                # Filtrar elementos mayores que 2"
   ]
  },
  {
   "cell_type": "markdown",
   "metadata": {},
   "source": [
    "<a id=\"A09\"></a>"
   ]
  },
  {
   "cell_type": "markdown",
   "metadata": {},
   "source": [
    "#### 9. Broadcasting de arreglos\n",
    "NumPy permite crear máscaras booleanas para filtrar y seleccionar elementos de un arreglo basado en ciertas condiciones.\n",
    "[[enlace]](#A00)."
   ]
  },
  {
   "cell_type": "code",
   "execution_count": 14,
   "metadata": {},
   "outputs": [
    {
     "name": "stdout",
     "output_type": "stream",
     "text": [
      "[2 4 6]\n"
     ]
    }
   ],
   "source": [
    "# Broadcasting en arreglos de NumPy\n",
    "a = np.array([1, 2, 3])\n",
    "b = 2\n",
    "print(a * b) # Multiplicación de arreglo por escalar"
   ]
  },
  {
   "cell_type": "markdown",
   "metadata": {},
   "source": [
    "<a id=\"A10\"></a>"
   ]
  },
  {
   "cell_type": "markdown",
   "metadata": {},
   "source": [
    "#### 10. Persistencia de datos\n",
    "[[enlace]](#A00)."
   ]
  },
  {
   "cell_type": "code",
   "execution_count": 15,
   "metadata": {},
   "outputs": [
    {
     "name": "stdout",
     "output_type": "stream",
     "text": [
      "[1 2 3 4 5]\n"
     ]
    }
   ],
   "source": [
    "# Persistencia de datos en NumPy\n",
    "arr = np.array([1, 2, 3, 4, 5])\n",
    "np.save('data.npy', arr)         # Guardar el arreglo en un archivo\n",
    "loaded_arr = np.load('data.npy') # Cargar el arreglo desde el archivo\n",
    "print(loaded_arr)"
   ]
  },
  {
   "cell_type": "code",
   "execution_count": 16,
   "metadata": {},
   "outputs": [],
   "source": [
    "# np.info(np.savez)"
   ]
  },
  {
   "cell_type": "markdown",
   "metadata": {},
   "source": [
    "<a id=\"A11\"></a>"
   ]
  },
  {
   "cell_type": "markdown",
   "metadata": {},
   "source": [
    "#### 11. Comparación de arreglos en NumPy\n",
    "[[enlace]](#A00)."
   ]
  },
  {
   "cell_type": "code",
   "execution_count": 17,
   "metadata": {},
   "outputs": [
    {
     "name": "stdout",
     "output_type": "stream",
     "text": [
      "[False  True False  True  True]\n",
      "[ True False False False False]\n",
      "False\n"
     ]
    }
   ],
   "source": [
    "# Crear dos arreglos\n",
    "arr1 = np.array([1, 2, 3, 4, 5])\n",
    "arr2 = np.array([3, 2, 1, 4, 5])\n",
    "# Comparar los elementos de los arreglos\n",
    "resultado = arr1 == arr2\n",
    "print(resultado)\n",
    "\n",
    "# Comparación\n",
    "print(arr1 < arr2)\n",
    "\n",
    "# Comparación completa\n",
    "print(np.array_equal(a, b))"
   ]
  },
  {
   "cell_type": "markdown",
   "metadata": {},
   "source": [
    "<a id=\"A12\"></a>"
   ]
  },
  {
   "cell_type": "markdown",
   "metadata": {},
   "source": [
    "#### 12. Funciones de agregación\n",
    "[[enlace]](#A00)."
   ]
  },
  {
   "cell_type": "code",
   "execution_count": 22,
   "metadata": {},
   "outputs": [
    {
     "name": "stdout",
     "output_type": "stream",
     "text": [
      "Suma: 15\n",
      "Mínimo: 1\n",
      "Máximo (eje 0): [4 5 6]\n",
      "Suma acumulativa (eje 1):\n",
      " [[ 1  3  6]\n",
      " [ 4  9 15]]\n",
      "Media: 3.0\n",
      "Mediana: 3.5\n",
      "Desviación estándar: 1.707825127659933\n"
     ]
    }
   ],
   "source": [
    "# Ejemplo de uso de las operaciones en NumPy\n",
    "a = np.array([1, 2, 3, 4, 5])\n",
    "b = np.array([[1, 2, 3], [4, 5, 6]])\n",
    "\n",
    "# Suma de todos los elementos en 'a'\n",
    "suma = a.sum()\n",
    "print(\"Suma:\", suma)\n",
    "\n",
    "# Valor mínimo en 'a'\n",
    "minimo = a.min()\n",
    "print(\"Mínimo:\", minimo)\n",
    "\n",
    "# Valor máximo a lo largo del eje 0 en 'b'\n",
    "maximo = b.max(axis=0)\n",
    "print(\"Máximo (eje 0):\", maximo)\n",
    "\n",
    "# Suma acumulativa a lo largo del eje 1 en 'b'\n",
    "cumsum = b.cumsum(axis=1)\n",
    "print(\"Suma acumulativa (eje 1):\\n\", cumsum)\n",
    "\n",
    "# Valor medio de 'a'\n",
    "media = a.mean()\n",
    "print(\"Media:\", media)\n",
    "\n",
    "# Mediana de 'b'\n",
    "mediana = np.median(b)\n",
    "print(\"Mediana:\", mediana)\n",
    "\n",
    "# Desviación estándar de 'b'\n",
    "desviacion_std = np.std(b)\n",
    "print(\"Desviación estándar:\", desviacion_std)"
   ]
  },
  {
   "cell_type": "markdown",
   "metadata": {},
   "source": [
    "<a id=\"A13\"></a> "
   ]
  },
  {
   "cell_type": "markdown",
   "metadata": {},
   "source": [
    "#### 13. Creación de copias\n",
    "[[enlace]](#A00)."
   ]
  },
  {
   "cell_type": "code",
   "execution_count": 23,
   "metadata": {},
   "outputs": [
    {
     "name": "stdout",
     "output_type": "stream",
     "text": [
      "Vista:\n",
      "[1 2 3 4 5]\n",
      "Copia:\n",
      "[1 2 3 4 5]\n",
      "Copia profunda:\n",
      "[1 2 3 4 5]\n"
     ]
    }
   ],
   "source": [
    "a = np.array([1, 2, 3, 4, 5])\n",
    "\n",
    "# Creación de una vista del arreglo 'a'\n",
    "h = a.view()\n",
    "print(\"Vista:\")\n",
    "print(h)\n",
    "\n",
    "# Creación de una copia del arreglo 'a'\n",
    "copia = np.copy(a)\n",
    "print(\"Copia:\")\n",
    "print(copia)\n",
    "\n",
    "# Creación de una copia profunda del arreglo 'a'\n",
    "h = a.copy()\n",
    "print(\"Copia profunda:\")\n",
    "print(h)"
   ]
  },
  {
   "cell_type": "markdown",
   "metadata": {},
   "source": [
    "<a id=\"A14\"></a>"
   ]
  },
  {
   "cell_type": "markdown",
   "metadata": {},
   "source": [
    "#### 14. Operación de NumPy con otras librerías\n",
    "[[enlace]](#A00)."
   ]
  },
  {
   "cell_type": "code",
   "execution_count": 24,
   "metadata": {},
   "outputs": [],
   "source": [
    "###### Operaciones usando arreglos"
   ]
  },
  {
   "cell_type": "code",
   "execution_count": 21,
   "metadata": {},
   "outputs": [
    {
     "data": {
      "image/png": "[encoded data removed]",
      "text/plain": [
       "<Figure size 432x288 with 1 Axes>"
      ]
     },
     "metadata": {
      "needs_background": "light"
     },
     "output_type": "display_data"
    }
   ],
   "source": [
    "import numpy as np\n",
    "import pandas as pd\n",
    "import matplotlib.pyplot as plt\n",
    "from scipy.stats import norm\n",
    "\n",
    "# Integración con otras bibliotecas en NumPy\n",
    "data = np.random.normal(0, 1, size=100)\n",
    "series = pd.Series(data)\n",
    "series.plot(kind='hist', bins=20)\n",
    "plt.show()"
   ]
  },
  {
   "cell_type": "code",
   "execution_count": null,
   "metadata": {},
   "outputs": [],
   "source": []
  }
 ],
 "metadata": {
  "kernelspec": {
   "display_name": "Python 3",
   "language": "python",
   "name": "python3"
  },
  "language_info": {
   "codemirror_mode": {
    "name": "ipython",
    "version": 3
   },
   "file_extension": ".py",
   "mimetype": "text/x-python",
   "name": "python",
   "nbconvert_exporter": "python",
   "pygments_lexer": "ipython3",
   "version": "3.7.6"
  }
 },
 "nbformat": 4,
 "nbformat_minor": 4
}
